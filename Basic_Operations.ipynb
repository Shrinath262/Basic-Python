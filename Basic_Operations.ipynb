{
  "nbformat": 4,
  "nbformat_minor": 0,
  "metadata": {
    "colab": {
      "provenance": [],
      "authorship_tag": "ABX9TyM1wXR4SDyVz4YwOYz2GGnd",
      "include_colab_link": true
    },
    "kernelspec": {
      "name": "python3",
      "display_name": "Python 3"
    },
    "language_info": {
      "name": "python"
    }
  },
  "cells": [
    {
      "cell_type": "markdown",
      "metadata": {
        "id": "view-in-github",
        "colab_type": "text"
      },
      "source": [
        "<a href=\"https://colab.research.google.com/github/Shrinath262/Basic-python/blob/Shrinath262-patch-1/Basic_Operations.ipynb\" target=\"_parent\"><img src=\"https://colab.research.google.com/assets/colab-badge.svg\" alt=\"Open In Colab\"/></a>"
      ]
    },
    {
      "cell_type": "markdown",
      "source": [
        "**LIST**"
      ],
      "metadata": {
        "id": "nZjx_JrZVyNx"
      }
    },
    {
      "cell_type": "code",
      "source": [
        "# Creating a list\n",
        "\n",
        "l1 = [1,2,3,4,5]\n",
        "l2 = [\"Apple\",\"Mango\",\"Orange\"]\n",
        "print(\"Integer list: \",l1)\n",
        "print(\"String list: \",l2)"
      ],
      "metadata": {
        "colab": {
          "base_uri": "https://localhost:8080/"
        },
        "id": "3xbrmHCnV_et",
        "outputId": "216b24c0-761e-4794-c29c-c5c63f46370f"
      },
      "execution_count": null,
      "outputs": [
        {
          "output_type": "stream",
          "name": "stdout",
          "text": [
            "Integer list:  [1, 2, 3, 4, 5]\n",
            "String list:  ['Apple', 'Mango', 'Orange']\n"
          ]
        }
      ]
    },
    {
      "cell_type": "code",
      "source": [
        "# Duplicate values in list\n",
        "\n",
        "a = [1,2,3,4,5,6,1,2,3]\n",
        "print(\"Duplicate value: \",a)"
      ],
      "metadata": {
        "colab": {
          "base_uri": "https://localhost:8080/"
        },
        "id": "kzD3RA_GWTIb",
        "outputId": "7078f563-45be-495e-a06c-e95b2a026305"
      },
      "execution_count": null,
      "outputs": [
        {
          "output_type": "stream",
          "name": "stdout",
          "text": [
            "Duplicate value:  [1, 2, 3, 4, 5, 6, 1, 2, 3]\n"
          ]
        }
      ]
    },
    {
      "cell_type": "code",
      "source": [
        "# List item change\n",
        "\n",
        "x = [\"Apple\",\"Banana\",\"Cherry\",\"Mango\",\"Kiwi\"]\n",
        "print(\"Current list: \",x)\n",
        "\n",
        "x[1:3] = [\"Grapes\",\"Orange\"]\n",
        "print(\"Updated list: \",x)"
      ],
      "metadata": {
        "colab": {
          "base_uri": "https://localhost:8080/"
        },
        "id": "dD2CGGF5WZ58",
        "outputId": "09134f91-d042-4411-8375-b569b89b34ef"
      },
      "execution_count": null,
      "outputs": [
        {
          "output_type": "stream",
          "name": "stdout",
          "text": [
            "Current list:  ['Apple', 'Banana', 'Cherry', 'Mango', 'Kiwi']\n",
            "Updated list:  ['Apple', 'Grapes', 'Orange', 'Mango', 'Kiwi']\n"
          ]
        }
      ]
    },
    {
      "cell_type": "code",
      "source": [
        "# Insert into list\n",
        "\n",
        "t = [1,2,3,4,5,6]\n",
        "print(\"Current list: \",t)\n",
        "\n",
        "t.insert(4,\"python\")\n",
        "print(\"Updated list: \",t)"
      ],
      "metadata": {
        "colab": {
          "base_uri": "https://localhost:8080/"
        },
        "id": "RHjeukXUWbS1",
        "outputId": "b6dd2d60-6c21-4666-fe8f-ccccbef808e8"
      },
      "execution_count": null,
      "outputs": [
        {
          "output_type": "stream",
          "name": "stdout",
          "text": [
            "Current list:  [1, 2, 3, 4, 5, 6]\n",
            "Updated list:  [1, 2, 3, 4, 'python', 5, 6]\n"
          ]
        }
      ]
    },
    {
      "cell_type": "code",
      "source": [
        "# Extended the list\n",
        "\n",
        "x1 = [1,2,3,4,5]\n",
        "x2 = [\"a\",\"b\",\"c\"]\n",
        "\n",
        "x1.extend(x2)\n",
        "print(x1)"
      ],
      "metadata": {
        "colab": {
          "base_uri": "https://localhost:8080/"
        },
        "id": "AqTn4U30WbjT",
        "outputId": "fb906c95-ba91-4907-b226-38c24f7511bd"
      },
      "execution_count": null,
      "outputs": [
        {
          "output_type": "stream",
          "name": "stdout",
          "text": [
            "[1, 2, 3, 4, 5, 'a', 'b', 'c']\n"
          ]
        }
      ]
    },
    {
      "cell_type": "code",
      "source": [
        "# Remove item from list\n",
        "\n",
        "s = [1,2,3,4,5,6,7]\n",
        "print(\"Current list: \",s)\n",
        "\n",
        "s.remove(4)\n",
        "print(\"Updated list: \",s)"
      ],
      "metadata": {
        "colab": {
          "base_uri": "https://localhost:8080/"
        },
        "id": "3wDWoCWUWtD0",
        "outputId": "5ff6fa88-c168-4edf-9d09-5803cffcc394"
      },
      "execution_count": null,
      "outputs": [
        {
          "output_type": "stream",
          "name": "stdout",
          "text": [
            "Current list:  [1, 2, 3, 4, 5, 6, 7]\n",
            "Updated list:  [1, 2, 3, 5, 6, 7]\n"
          ]
        }
      ]
    },
    {
      "cell_type": "code",
      "source": [
        "# Clear item from list\n",
        "\n",
        "s = [1,2,3,4,5,6,7]\n",
        "print(\"Current list: \",s)\n",
        "\n",
        "s.clear()\n",
        "print(\"Updated list: \",s)"
      ],
      "metadata": {
        "colab": {
          "base_uri": "https://localhost:8080/"
        },
        "id": "YR6F16XjWtRa",
        "outputId": "50f9041e-ac9f-4e77-b995-15314bc0063c"
      },
      "execution_count": null,
      "outputs": [
        {
          "output_type": "stream",
          "name": "stdout",
          "text": [
            "Current list:  [1, 2, 3, 4, 5, 6, 7]\n",
            "Updated list:  []\n"
          ]
        }
      ]
    },
    {
      "cell_type": "code",
      "source": [
        "# pop() method \n",
        "\n",
        "x_z = [1,2,3,4,5,6]\n",
        "print(\"Current list: \",x_z)\n",
        "\n",
        "x_z.pop()\n",
        "print(\"Updated list: \",x_z)"
      ],
      "metadata": {
        "colab": {
          "base_uri": "https://localhost:8080/"
        },
        "id": "xQCBxhlEWtaz",
        "outputId": "2eb78c5c-8d93-4dbf-813c-15bbcf1cdf64"
      },
      "execution_count": null,
      "outputs": [
        {
          "output_type": "stream",
          "name": "stdout",
          "text": [
            "Current list:  [1, 2, 3, 4, 5, 6]\n",
            "Updated list:  [1, 2, 3, 4, 5]\n"
          ]
        }
      ]
    },
    {
      "cell_type": "code",
      "source": [
        "# Reverse() method\n",
        "\n",
        "l1 = [1,2,3,4,5,6]\n",
        "print(l1)\n",
        "\n",
        "l1.reverse()\n",
        "print(l1)"
      ],
      "metadata": {
        "colab": {
          "base_uri": "https://localhost:8080/"
        },
        "id": "n9gFkDZYWtgk",
        "outputId": "4accf059-103d-40d4-ae72-2a545d12b7dd"
      },
      "execution_count": null,
      "outputs": [
        {
          "output_type": "stream",
          "name": "stdout",
          "text": [
            "[1, 2, 3, 4, 5, 6]\n",
            "[6, 5, 4, 3, 2, 1]\n"
          ]
        }
      ]
    },
    {
      "cell_type": "code",
      "source": [
        "# del() method \n",
        "\n",
        "l1 = [1,2,3,4,5,6]\n",
        "print(l1)\n",
        "\n",
        "del l1 [2]\n",
        "print(l1)"
      ],
      "metadata": {
        "colab": {
          "base_uri": "https://localhost:8080/"
        },
        "id": "pH99DUlCWtlr",
        "outputId": "8ff9a0df-b6d8-40cd-f7b1-da45c9c48bbe"
      },
      "execution_count": null,
      "outputs": [
        {
          "output_type": "stream",
          "name": "stdout",
          "text": [
            "[1, 2, 3, 4, 5, 6]\n",
            "[1, 2, 4, 5, 6]\n"
          ]
        }
      ]
    },
    {
      "cell_type": "code",
      "source": [
        "# copy of the list\n",
        "\n",
        "l1 = [1,2,3,4,5,6]\n",
        "print(\"Current list: \",l1)\n",
        "\n",
        "l1.copy()\n",
        "print(\"Updated list: \",l1)"
      ],
      "metadata": {
        "colab": {
          "base_uri": "https://localhost:8080/"
        },
        "id": "7v_TjedeWtrL",
        "outputId": "320deaa9-36f6-410e-88c2-d3e976167c18"
      },
      "execution_count": null,
      "outputs": [
        {
          "output_type": "stream",
          "name": "stdout",
          "text": [
            "Current list:  [1, 2, 3, 4, 5, 6]\n",
            "Updated list:  [1, 2, 3, 4, 5, 6]\n"
          ]
        }
      ]
    },
    {
      "cell_type": "code",
      "source": [
        "# Append method\n",
        "\n",
        "a = [\"apple\",\"banana\",\"cherry\"]\n",
        "b = [\"ford\",\"bmw\",\"volvo\"]\n",
        "\n",
        "a.append(b)\n",
        "print(a)"
      ],
      "metadata": {
        "colab": {
          "base_uri": "https://localhost:8080/"
        },
        "id": "w93_qOyBXPkH",
        "outputId": "8c4c3cc9-12a9-4549-ba76-43c678f1cd3d"
      },
      "execution_count": null,
      "outputs": [
        {
          "output_type": "stream",
          "name": "stdout",
          "text": [
            "['apple', 'banana', 'cherry', ['ford', 'bmw', 'volvo']]\n"
          ]
        }
      ]
    },
    {
      "cell_type": "code",
      "source": [
        "# list convert into a tuple\n",
        "\n",
        "my_list = [1,2,3,4,5]\n",
        "print(my_list)\n",
        "\n",
        "my_tuple = tuple(my_list)\n",
        "print(my_tuple)"
      ],
      "metadata": {
        "colab": {
          "base_uri": "https://localhost:8080/"
        },
        "id": "VrCJrzwXXPwu",
        "outputId": "3b3229e2-79d6-4e56-d0f2-74c925964d45"
      },
      "execution_count": null,
      "outputs": [
        {
          "output_type": "stream",
          "name": "stdout",
          "text": [
            "[1, 2, 3, 4, 5]\n",
            "(1, 2, 3, 4, 5)\n"
          ]
        }
      ]
    },
    {
      "cell_type": "code",
      "source": [
        "# list convert into a set\n",
        "\n",
        "my_list = [1,2,3,4,5]\n",
        "print(my_list)\n",
        "\n",
        "my_set = set(my_list)\n",
        "print(my_set)"
      ],
      "metadata": {
        "colab": {
          "base_uri": "https://localhost:8080/"
        },
        "id": "RqxIb2wzXP5X",
        "outputId": "a8593e3e-1e25-48b0-8f8f-115302fdf4d6"
      },
      "execution_count": null,
      "outputs": [
        {
          "output_type": "stream",
          "name": "stdout",
          "text": [
            "[1, 2, 3, 4, 5]\n",
            "{1, 2, 3, 4, 5}\n"
          ]
        }
      ]
    },
    {
      "cell_type": "code",
      "source": [
        "# Index / Slicing in the list\n",
        "\n",
        "l1 = [1,2,3,4,5,6,7,8,9,10]\n",
        "\n",
        "print(\"current list: \",l1)\n",
        "\n",
        "print(\"index 1 value: \",l1)\n",
        "\n",
        "print(\"index between 1 to 7: \",l1[1:7])"
      ],
      "metadata": {
        "colab": {
          "base_uri": "https://localhost:8080/"
        },
        "id": "DnBnYNYeXP9H",
        "outputId": "77f81f4a-8c4d-4ebc-d70f-f6d9ba4b6604"
      },
      "execution_count": null,
      "outputs": [
        {
          "output_type": "stream",
          "name": "stdout",
          "text": [
            "current list:  [1, 2, 3, 4, 5, 6, 7, 8, 9, 10]\n",
            "index 1 value:  [1, 2, 3, 4, 5, 6, 7, 8, 9, 10]\n",
            "index between 1 to 7:  [2, 3, 4, 5, 6, 7]\n"
          ]
        }
      ]
    },
    {
      "cell_type": "code",
      "source": [],
      "metadata": {
        "id": "uxBUYxpwXQBC"
      },
      "execution_count": null,
      "outputs": []
    },
    {
      "cell_type": "markdown",
      "source": [
        "**TUPLE**"
      ],
      "metadata": {
        "id": "1OBQKX4HXwVL"
      }
    },
    {
      "cell_type": "code",
      "source": [
        "# Create tuple\n",
        "\n",
        "t1 = (\"Apple\",\"Orange\",\"Cherry\",1,2,3,4,5,10.5,56.40,12.5)\n",
        "print(\"Current list: \",t1)"
      ],
      "metadata": {
        "colab": {
          "base_uri": "https://localhost:8080/"
        },
        "id": "9dZkmYfzX3vr",
        "outputId": "c89d15dc-6a7a-4c66-d283-228a826343d0"
      },
      "execution_count": null,
      "outputs": [
        {
          "output_type": "stream",
          "name": "stdout",
          "text": [
            "Current list:  ('Apple', 'Orange', 'Cherry', 1, 2, 3, 4, 5, 10.5, 56.4, 12.5)\n"
          ]
        }
      ]
    },
    {
      "cell_type": "code",
      "source": [
        "# checking length of tuple\n",
        "\n",
        "abc = (\"Apple\",\"Orange\",\"Cherry\",1,2,3,12.5)\n",
        "print(\"size: \",len(abc))"
      ],
      "metadata": {
        "colab": {
          "base_uri": "https://localhost:8080/"
        },
        "id": "y2G1d1c3XQH0",
        "outputId": "936c42ba-b13b-461c-b0e0-90b3034742f0"
      },
      "execution_count": null,
      "outputs": [
        {
          "output_type": "stream",
          "name": "stdout",
          "text": [
            "size:  7\n"
          ]
        }
      ]
    },
    {
      "cell_type": "code",
      "source": [
        "# Indexing / Sclicing into a tuple\n",
        "\n",
        "t1 = (\"Apple\",\"Orange\",\"Cherry\",1,2,3,4,10.5,12.5)\n",
        "\n",
        "print(\"current tuple: \",t1)\n",
        "print(\"index 1 value: \",t1[1])\n",
        "print(\"index between 1 to 6: \",t1[1:6])\n",
        "print(\"last value: \",t1[-1])\n",
        "print(\"value till index 6: \",t1[:6])"
      ],
      "metadata": {
        "colab": {
          "base_uri": "https://localhost:8080/"
        },
        "id": "seqg8snDYH-2",
        "outputId": "ddfaf3fc-257a-4dd8-f473-37b51f75c6df"
      },
      "execution_count": null,
      "outputs": [
        {
          "output_type": "stream",
          "name": "stdout",
          "text": [
            "current tuple:  ('Apple', 'Orange', 'Cherry', 1, 2, 3, 4, 10.5, 12.5)\n",
            "index 1 value:  Orange\n",
            "index between 1 to 6:  ('Orange', 'Cherry', 1, 2, 3)\n",
            "last value:  12.5\n",
            "value till index 6:  ('Apple', 'Orange', 'Cherry', 1, 2, 3)\n"
          ]
        }
      ]
    },
    {
      "cell_type": "code",
      "source": [
        "# convert tuple into list\n",
        "\n",
        "t1 = (\"Apple\",\"Orange\",\"Cherry\",1,2,3,4,10.5,12.5)\n",
        "print(\"current tuple: \",t1)\n",
        "\n",
        "x = list(t1)\n",
        "print(\"after convert: \",x)"
      ],
      "metadata": {
        "colab": {
          "base_uri": "https://localhost:8080/"
        },
        "id": "gzLzd40qYIBr",
        "outputId": "1653750a-b5fe-449a-be63-9949638d8883"
      },
      "execution_count": null,
      "outputs": [
        {
          "output_type": "stream",
          "name": "stdout",
          "text": [
            "current tuple:  ('Apple', 'Orange', 'Cherry', 1, 2, 3, 4, 10.5, 12.5)\n",
            "after convert:  ['Apple', 'Orange', 'Cherry', 1, 2, 3, 4, 10.5, 12.5]\n"
          ]
        }
      ]
    },
    {
      "cell_type": "code",
      "source": [
        "# add item but after converting tuple into list\n",
        "\n",
        "z = (\"apple\",\"orange\",\"mango\",\"cherry\")\n",
        "print(\"current tuple: \",z) # before convert\n",
        "print(type(z))\n",
        "\n",
        "# convert tuple into list\n",
        "\n",
        "x = list(z)\n",
        "print(x)     # after convert\n",
        "print(tuple(x))\n",
        "\n",
        "# add item into list\n",
        "\n",
        "x[1] = \"kiwi\"\n",
        "print(\"updated list: \",x)\n",
        "\n",
        "# convert list into tuple again\n",
        "\n",
        "y = tuple(x)\n",
        "print(\"updated tuple: \",y)"
      ],
      "metadata": {
        "colab": {
          "base_uri": "https://localhost:8080/"
        },
        "id": "Ud9I-B3BYIF6",
        "outputId": "6eb54796-b763-48b7-ce55-fb94ae7a479b"
      },
      "execution_count": null,
      "outputs": [
        {
          "output_type": "stream",
          "name": "stdout",
          "text": [
            "current tuple:  ('apple', 'orange', 'mango', 'cherry')\n",
            "<class 'tuple'>\n",
            "['apple', 'orange', 'mango', 'cherry']\n",
            "('apple', 'orange', 'mango', 'cherry')\n",
            "updated list:  ['apple', 'kiwi', 'mango', 'cherry']\n",
            "updated tuple:  ('apple', 'kiwi', 'mango', 'cherry')\n"
          ]
        }
      ]
    },
    {
      "cell_type": "code",
      "source": [
        "# count method\n",
        "\n",
        "k = [13,18,11,56,18,18,11,78]\n",
        "k.count(18)"
      ],
      "metadata": {
        "colab": {
          "base_uri": "https://localhost:8080/"
        },
        "id": "VdkPyWcwYIJ6",
        "outputId": "1e68978a-894a-4679-caf8-45c3bb06abab"
      },
      "execution_count": null,
      "outputs": [
        {
          "output_type": "execute_result",
          "data": {
            "text/plain": [
              "3"
            ]
          },
          "metadata": {},
          "execution_count": 21
        }
      ]
    },
    {
      "cell_type": "markdown",
      "source": [
        "**SET**"
      ],
      "metadata": {
        "id": "rhuNExa2YbnY"
      }
    },
    {
      "cell_type": "code",
      "source": [
        "# set of letters\n",
        "\n",
        "z = {'s','k','d','p','r'}\n",
        "print(z)"
      ],
      "metadata": {
        "colab": {
          "base_uri": "https://localhost:8080/"
        },
        "id": "rznQGGHTYd-o",
        "outputId": "186b92db-5c69-4a83-deec-73e78563db24"
      },
      "execution_count": null,
      "outputs": [
        {
          "output_type": "stream",
          "name": "stdout",
          "text": [
            "{'r', 's', 'k', 'p', 'd'}\n"
          ]
        }
      ]
    },
    {
      "cell_type": "code",
      "source": [
        "# adding 'z'\n",
        "\n",
        "z = {'s','k','d','p','r'}\n",
        "z.add('g')\n",
        "print(\"updating set: \",z)\n",
        "\n",
        "# discarding element from the set\n",
        "\n",
        "z.discard('p')\n",
        "print(\"after discarding element: \",z)\n",
        "\n",
        "# Remove element\n",
        "\n",
        "z.remove('d')\n",
        "print(\"removing element: \",z)\n",
        "\n",
        "# pop method\n",
        "print(\"popped element: \",z.pop())\n",
        "print(\"set after updating: \",z)\n",
        "\n",
        "# clear method\n",
        "\n",
        "z.clear()\n",
        "print(\"after updating: \",z)"
      ],
      "metadata": {
        "colab": {
          "base_uri": "https://localhost:8080/"
        },
        "id": "XveAG8y_YiBn",
        "outputId": "109dc3f3-f6c8-4801-85cc-c269bca4aa9d"
      },
      "execution_count": null,
      "outputs": [
        {
          "output_type": "stream",
          "name": "stdout",
          "text": [
            "updating set:  {'g', 'r', 's', 'k', 'p', 'd'}\n",
            "after discarding element:  {'g', 'r', 's', 'k', 'd'}\n",
            "removing element:  {'g', 'r', 's', 'k'}\n",
            "popped element:  g\n",
            "set after updating:  {'r', 's', 'k'}\n",
            "after updating:  set()\n"
          ]
        }
      ]
    }
  ]
}