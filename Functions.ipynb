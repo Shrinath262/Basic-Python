{
  "nbformat": 4,
  "nbformat_minor": 0,
  "metadata": {
    "colab": {
      "provenance": [],
      "authorship_tag": "ABX9TyNEEXyTDFDosaRANipx41/b",
      "include_colab_link": true
    },
    "kernelspec": {
      "name": "python3",
      "display_name": "Python 3"
    },
    "language_info": {
      "name": "python"
    }
  },
  "cells": [
    {
      "cell_type": "markdown",
      "metadata": {
        "id": "view-in-github",
        "colab_type": "text"
      },
      "source": [
        "<a href=\"https://colab.research.google.com/github/Shrinath262/Basic-python/blob/main/Untitled0.ipynb\" target=\"_parent\"><img src=\"https://colab.research.google.com/assets/colab-badge.svg\" alt=\"Open In Colab\"/></a>"
      ]
    },
    {
      "cell_type": "markdown",
      "source": [
        "**Functions in python**"
      ],
      "metadata": {
        "id": "UMpSjK1mZdYU"
      }
    },
    {
      "cell_type": "code",
      "source": [
        "# Lambda / creating a lambda function\n",
        "\n",
        "# Example 1\n",
        "x = lambda a : a + 10\n",
        "print(x(8))"
      ],
      "metadata": {
        "colab": {
          "base_uri": "https://localhost:8080/"
        },
        "id": "VYQd5s0PZvtz",
        "outputId": "e18ed5ab-8c9b-4513-f349-3408a3e2eeea"
      },
      "execution_count": 33,
      "outputs": [
        {
          "output_type": "stream",
          "name": "stdout",
          "text": [
            "18\n"
          ]
        }
      ]
    },
    {
      "cell_type": "code",
      "source": [
        "# Example 2\n",
        "\n",
        "y = lambda a,b : a*b\n",
        "print(y(5,20))"
      ],
      "metadata": {
        "colab": {
          "base_uri": "https://localhost:8080/"
        },
        "id": "8AKZYFHhZvwx",
        "outputId": "9a67c441-8c7c-407d-bffa-3974ab78a977"
      },
      "execution_count": 34,
      "outputs": [
        {
          "output_type": "stream",
          "name": "stdout",
          "text": [
            "100\n"
          ]
        }
      ]
    },
    {
      "cell_type": "code",
      "source": [
        "# Filter\n",
        "\n",
        "# Example 1\n",
        "\n",
        "percentage = [20,60,84,96]\n",
        "\n",
        "def func(x):\n",
        "  if x < 84:\n",
        "    return False\n",
        "  else:\n",
        "    return True\n",
        "\n",
        "Good = filter(func, percentage)\n",
        "for x in Good:\n",
        "  print(x)"
      ],
      "metadata": {
        "colab": {
          "base_uri": "https://localhost:8080/"
        },
        "id": "07CQmtYzZv00",
        "outputId": "f9bfb524-f86b-4fb2-b47b-cd91ca54c5df"
      },
      "execution_count": 35,
      "outputs": [
        {
          "output_type": "stream",
          "name": "stdout",
          "text": [
            "84\n",
            "96\n"
          ]
        }
      ]
    },
    {
      "cell_type": "code",
      "source": [
        "# Example 2\n",
        "\n",
        "x= [10,20,30,40]\n",
        "\n",
        "def Funct(x):\n",
        "  if x < 30:\n",
        "    return False\n",
        "  else:\n",
        "    return True\n",
        "\n",
        "y = filter(Funct, x)\n",
        "for x in y:\n",
        "  print(x)"
      ],
      "metadata": {
        "id": "GGo5Jxhtd_mx",
        "colab": {
          "base_uri": "https://localhost:8080/"
        },
        "outputId": "f4f82dce-e4bf-44f9-d976-1730734f909c"
      },
      "execution_count": 36,
      "outputs": [
        {
          "output_type": "stream",
          "name": "stdout",
          "text": [
            "30\n",
            "40\n"
          ]
        }
      ]
    },
    {
      "cell_type": "code",
      "source": [
        "# Map\n",
        "\n",
        "#Example 1\n",
        "\n",
        "def func(x,y):\n",
        "  return x + y\n",
        "\n",
        "x = map(func, ('pen','pencil','wifi'), ('notebook','sketch','mobile'))\n",
        "print(x)\n",
        "print(tuple(x))"
      ],
      "metadata": {
        "colab": {
          "base_uri": "https://localhost:8080/"
        },
        "id": "cg-ncOYpeqGR",
        "outputId": "df6d6eee-3861-4e72-e841-352dd5507ce5"
      },
      "execution_count": 37,
      "outputs": [
        {
          "output_type": "stream",
          "name": "stdout",
          "text": [
            "<map object at 0x7f3d8aebd880>\n",
            "('pennotebook', 'pencilsketch', 'wifimobile')\n"
          ]
        }
      ]
    },
    {
      "cell_type": "code",
      "source": [
        "# Example 2\n",
        "\n",
        "def fun(x):\n",
        "  return len(x)\n",
        "\n",
        "x = map(fun, ('Sara','Carlo','Andy'))\n",
        "print(tuple(x))\n"
      ],
      "metadata": {
        "colab": {
          "base_uri": "https://localhost:8080/"
        },
        "id": "Pmm6VblSiALb",
        "outputId": "88507622-d27d-4a91-9bb7-155f5d36b55f"
      },
      "execution_count": 38,
      "outputs": [
        {
          "output_type": "stream",
          "name": "stdout",
          "text": [
            "(4, 5, 4)\n"
          ]
        }
      ]
    },
    {
      "cell_type": "code",
      "source": [
        "# User define function\n",
        "\n",
        "# Example 1\n",
        "\n",
        "def myfunction():\n",
        "  print(\"Hello\")\n",
        "myfunction()"
      ],
      "metadata": {
        "id": "l4swxirfiAVc",
        "colab": {
          "base_uri": "https://localhost:8080/"
        },
        "outputId": "06e8ac39-844f-4940-a1ff-5b96db96fd04"
      },
      "execution_count": 39,
      "outputs": [
        {
          "output_type": "stream",
          "name": "stdout",
          "text": [
            "Hello\n"
          ]
        }
      ]
    },
    {
      "cell_type": "code",
      "source": [
        "# Example 2\n",
        "\n",
        "def add(a,b):\n",
        "  sum = a + b;\n",
        "  return sum;\n",
        "print(\"Sum is: \",add(5,70))"
      ],
      "metadata": {
        "colab": {
          "base_uri": "https://localhost:8080/"
        },
        "id": "MH3bzjwOv5qv",
        "outputId": "e3af6547-de9c-4941-ca9b-2cb5148f995a"
      },
      "execution_count": 40,
      "outputs": [
        {
          "output_type": "stream",
          "name": "stdout",
          "text": [
            "Sum is:  75\n"
          ]
        }
      ]
    }
  ]
}
