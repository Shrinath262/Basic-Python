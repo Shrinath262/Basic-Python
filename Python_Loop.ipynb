{
  "nbformat": 4,
  "nbformat_minor": 0,
  "metadata": {
    "colab": {
      "provenance": [],
      "authorship_tag": "ABX9TyMuxsxQgT8OtP6JOnaIXsxu",
      "include_colab_link": true
    },
    "kernelspec": {
      "name": "python3",
      "display_name": "Python 3"
    },
    "language_info": {
      "name": "python"
    }
  },
  "cells": [
    {
      "cell_type": "markdown",
      "metadata": {
        "id": "view-in-github",
        "colab_type": "text"
      },
      "source": [
        "<a href=\"https://colab.research.google.com/github/Shrinath262/Basic-python/blob/main/Python_Loop.ipynb\" target=\"_parent\"><img src=\"https://colab.research.google.com/assets/colab-badge.svg\" alt=\"Open In Colab\"/></a>"
      ]
    },
    {
      "cell_type": "markdown",
      "source": [
        "**Python Loop**"
      ],
      "metadata": {
        "id": "U0-iJ6GtPMeq"
      }
    },
    {
      "cell_type": "code",
      "source": [
        "# for loop / Sequential loop\n",
        "\n",
        "z = []\n",
        "for i in range (1,21):\n",
        "    z.append(i)\n",
        "print(z)"
      ],
      "metadata": {
        "colab": {
          "base_uri": "https://localhost:8080/"
        },
        "id": "rJtyks2mPQ3N",
        "outputId": "a2082bbe-2b9b-4b71-f2cd-102a99248f63"
      },
      "execution_count": 1,
      "outputs": [
        {
          "output_type": "stream",
          "name": "stdout",
          "text": [
            "[1, 2, 3, 4, 5, 6, 7, 8, 9, 10, 11, 12, 13, 14, 15, 16, 17, 18, 19, 20]\n"
          ]
        }
      ]
    },
    {
      "cell_type": "code",
      "execution_count": 2,
      "metadata": {
        "id": "dmYyBvLBPJJ3",
        "colab": {
          "base_uri": "https://localhost:8080/"
        },
        "outputId": "d241695a-bf7c-4346-a91f-438b2d5e54ad"
      },
      "outputs": [
        {
          "output_type": "stream",
          "name": "stdout",
          "text": [
            "[20, 19, 18, 17, 16, 15, 14, 13, 12, 11, 10, 9, 8, 7, 6, 5, 4, 3, 2, 1]\n"
          ]
        }
      ],
      "source": [
        "# While loop / Conditional loop\n",
        "\n",
        "z = []\n",
        "i = 21\n",
        "while i>1:\n",
        "    i = i-1\n",
        "    z.append(i)\n",
        "print(z)"
      ]
    },
    {
      "cell_type": "code",
      "source": [
        "# Conditinal loop\n",
        "\n",
        "p = int(input(\"Enter your percentage: \"))\n",
        "if (p > 90):\n",
        "    print(\"O Grade\")\n",
        "elif (p > 80):\n",
        "    print(\"A Grade\")\n",
        "elif (p > 60):\n",
        "    print(\"B Grade\")\n",
        "elif (p > 35):\n",
        "    print(\"C Grade\")\n",
        "else:\n",
        "    print(\"Fail\")"
      ],
      "metadata": {
        "colab": {
          "base_uri": "https://localhost:8080/"
        },
        "id": "cFzSCyA-PlLN",
        "outputId": "907d2355-4ae2-4d08-a1e5-70fde9bd70a0"
      },
      "execution_count": 3,
      "outputs": [
        {
          "output_type": "stream",
          "name": "stdout",
          "text": [
            "Enter your percentage: 78\n",
            "B Grade\n"
          ]
        }
      ]
    },
    {
      "cell_type": "code",
      "source": [
        "# conditional loop for prime number\n",
        "\n",
        "y_z = int(input(\"Enter number: \"))\n",
        "if y_z > 1:\n",
        "    for i in range(2,y_z):\n",
        "        if (y_z % i) == 0:\n",
        "            \n",
        "            print(\"Number is not prime\")\n",
        "            break\n",
        "    else:\n",
        "        print(\"Number is prime\")    "
      ],
      "metadata": {
        "colab": {
          "base_uri": "https://localhost:8080/"
        },
        "id": "0j60DBJ2PlO6",
        "outputId": "97be9724-84d4-47e4-9ece-ec6c8bd7e519"
      },
      "execution_count": 4,
      "outputs": [
        {
          "output_type": "stream",
          "name": "stdout",
          "text": [
            "Enter number: 2\n",
            "Number is prime\n"
          ]
        }
      ]
    },
    {
      "cell_type": "code",
      "source": [
        "# wrute for loop for printing odd value using continue statement\n",
        "\n",
        "num = int(input(\"start: \"))\n",
        "for n in range(1,num):\n",
        "    if n%2 !=0:  \n",
        "        print(n)\n",
        "        continue"
      ],
      "metadata": {
        "colab": {
          "base_uri": "https://localhost:8080/"
        },
        "id": "4z6NWlSWPlTG",
        "outputId": "9cce5868-2440-4f04-f953-5d026f9c83c1"
      },
      "execution_count": 5,
      "outputs": [
        {
          "output_type": "stream",
          "name": "stdout",
          "text": [
            "start: 12\n",
            "1\n",
            "3\n",
            "5\n",
            "7\n",
            "9\n",
            "11\n"
          ]
        }
      ]
    },
    {
      "cell_type": "code",
      "source": [
        "# write code need given ans\n",
        "# A1\n",
        "# B2\n",
        "# C3\n",
        "# .\n",
        "# .\n",
        "# Z26\n",
        "\n",
        "for i in range(1,27):\n",
        "    print(chr(64+i)+str(i))"
      ],
      "metadata": {
        "colab": {
          "base_uri": "https://localhost:8080/"
        },
        "id": "qOO81YN-P-Z2",
        "outputId": "7ff6bf34-f6f6-46d8-d02a-aeb1601cb2d0"
      },
      "execution_count": 6,
      "outputs": [
        {
          "output_type": "stream",
          "name": "stdout",
          "text": [
            "A1\n",
            "B2\n",
            "C3\n",
            "D4\n",
            "E5\n",
            "F6\n",
            "G7\n",
            "H8\n",
            "I9\n",
            "J10\n",
            "K11\n",
            "L12\n",
            "M13\n",
            "N14\n",
            "O15\n",
            "P16\n",
            "Q17\n",
            "R18\n",
            "S19\n",
            "T20\n",
            "U21\n",
            "V22\n",
            "W23\n",
            "X24\n",
            "Y25\n",
            "Z26\n"
          ]
        }
      ]
    },
    {
      "cell_type": "code",
      "source": [
        "'''Write code reverse to given tuple (don’t use reverse method )\n",
        "T=(1,3,2,4,6,5)'''\n",
        "\n",
        "h=(1,3,2,4,6,5)\n",
        "print(h)\n",
        "h = h[::-1]  \n",
        "print(h) "
      ],
      "metadata": {
        "colab": {
          "base_uri": "https://localhost:8080/"
        },
        "id": "dAveLCWhQFnz",
        "outputId": "2c3db97a-5a97-40b5-959a-ba10eab41aac"
      },
      "execution_count": 7,
      "outputs": [
        {
          "output_type": "stream",
          "name": "stdout",
          "text": [
            "(1, 3, 2, 4, 6, 5)\n",
            "(5, 6, 4, 2, 3, 1)\n"
          ]
        }
      ]
    },
    {
      "cell_type": "code",
      "source": [
        "'''Write code print “statistics” like that'''\n",
        "\n",
        "word=\"statistics\"\n",
        "for i in range(len(word)):\n",
        "    if word[i]=='s':  \n",
        "        print('Python')\n",
        "    print(word[i])"
      ],
      "metadata": {
        "colab": {
          "base_uri": "https://localhost:8080/"
        },
        "id": "XkGoFv-IQFty",
        "outputId": "19920e7a-e913-4699-d4ad-8c1bdc55b895"
      },
      "execution_count": 8,
      "outputs": [
        {
          "output_type": "stream",
          "name": "stdout",
          "text": [
            "Python\n",
            "s\n",
            "t\n",
            "a\n",
            "t\n",
            "i\n",
            "Python\n",
            "s\n",
            "t\n",
            "i\n",
            "c\n",
            "Python\n",
            "s\n"
          ]
        }
      ]
    },
    {
      "cell_type": "code",
      "source": [
        "for i in \"statistics\":\n",
        "    if i=='s':\n",
        "        print(\"python\")\n",
        "    print(i)"
      ],
      "metadata": {
        "colab": {
          "base_uri": "https://localhost:8080/"
        },
        "id": "6VVWFW1uQFxe",
        "outputId": "8d38ca08-c2b6-4b14-b50c-b57c06621f2c"
      },
      "execution_count": 9,
      "outputs": [
        {
          "output_type": "stream",
          "name": "stdout",
          "text": [
            "python\n",
            "s\n",
            "t\n",
            "a\n",
            "t\n",
            "i\n",
            "python\n",
            "s\n",
            "t\n",
            "i\n",
            "c\n",
            "python\n",
            "s\n"
          ]
        }
      ]
    },
    {
      "cell_type": "code",
      "source": [
        "'''alpha= [a,b,c,d,e,f,g,h,i]\n",
        "Print every word and stop iteration after getting g ltr'''\n",
        "\n",
        "alpha = (\"a\",\"b\",\"c\",\"d\",\"e\",\"f\",\"g\",\"h\",\"i\")\n",
        "for i in alpha:\n",
        "    if i==\"g\":\n",
        "        break\n",
        "    print(i)"
      ],
      "metadata": {
        "colab": {
          "base_uri": "https://localhost:8080/"
        },
        "id": "BYYFoUs6QF0_",
        "outputId": "5dcb9d98-6678-4a39-947a-2a5de4a2b68e"
      },
      "execution_count": 10,
      "outputs": [
        {
          "output_type": "stream",
          "name": "stdout",
          "text": [
            "a\n",
            "b\n",
            "c\n",
            "d\n",
            "e\n",
            "f\n"
          ]
        }
      ]
    }
  ]
}