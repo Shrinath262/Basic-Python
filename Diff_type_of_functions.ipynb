{
  "nbformat": 4,
  "nbformat_minor": 0,
  "metadata": {
    "colab": {
      "provenance": [],
      "authorship_tag": "ABX9TyP/TESRRU0Kw5UJhzPrpW8A",
      "include_colab_link": true
    },
    "kernelspec": {
      "name": "python3",
      "display_name": "Python 3"
    },
    "language_info": {
      "name": "python"
    }
  },
  "cells": [
    {
      "cell_type": "markdown",
      "metadata": {
        "id": "view-in-github",
        "colab_type": "text"
      },
      "source": [
        "<a href=\"https://colab.research.google.com/github/Shrinath262/Basic-python/blob/main/Diff_type_of_functions.ipynb\" target=\"_parent\"><img src=\"https://colab.research.google.com/assets/colab-badge.svg\" alt=\"Open In Colab\"/></a>"
      ]
    },
    {
      "cell_type": "code",
      "execution_count": null,
      "metadata": {
        "id": "6JRtRsTq1-5M"
      },
      "outputs": [],
      "source": [
        "# Program to swap first and last element using python function\n",
        "\n",
        "def swap(num):\n",
        "  if len(num) <2:\n",
        "    return num\n",
        "  else:\n",
        "    first = num[0]\n",
        "    last = num[-1]\n",
        "    num[0] = last\n",
        "    num[-1] = first\n",
        "    return num"
      ]
    },
    {
      "cell_type": "code",
      "source": [
        "num = [2,4,8,6,1,9,3]\n",
        "swap_nos = swap(num)\n",
        "print(swap_nos)"
      ],
      "metadata": {
        "colab": {
          "base_uri": "https://localhost:8080/"
        },
        "id": "cdQSvrBWAoSR",
        "outputId": "8451bdfc-690f-441f-ffee-b94de2ad9d23"
      },
      "execution_count": null,
      "outputs": [
        {
          "output_type": "stream",
          "name": "stdout",
          "text": [
            "[3, 4, 8, 6, 1, 9, 2]\n"
          ]
        }
      ]
    },
    {
      "cell_type": "code",
      "source": [
        "# Function to count length of string\n",
        "\n",
        "s = (12,56,34,70,30,25)\n",
        "print(len(s))"
      ],
      "metadata": {
        "colab": {
          "base_uri": "https://localhost:8080/"
        },
        "id": "fUYTh8VKBtyh",
        "outputId": "12e2af01-16d2-4396-bc9d-511f28518e53"
      },
      "execution_count": null,
      "outputs": [
        {
          "output_type": "stream",
          "name": "stdout",
          "text": [
            "6\n"
          ]
        }
      ]
    },
    {
      "cell_type": "code",
      "source": [
        "# program to get the sum of an only non negative number\n",
        "\n",
        "sum = 0\n",
        "\n",
        "print(\"Please enter any 5 integer number: \")\n",
        "for i in range(0, 5):\n",
        "  get = int(input(\"Number %d = \" %i))\n",
        "\n",
        "  if get < 0:\n",
        "    continue\n",
        "\n",
        "  sum = sum + get\n",
        "\n",
        "print(\"The sum of numbers after skipping negative number = \", sum)"
      ],
      "metadata": {
        "id": "0dM__TvoCH80",
        "colab": {
          "base_uri": "https://localhost:8080/"
        },
        "outputId": "fdbbe483-778b-4d2e-aa46-13fa683d8b01"
      },
      "execution_count": 1,
      "outputs": [
        {
          "output_type": "stream",
          "name": "stdout",
          "text": [
            "Please enter any 5 integer number: \n",
            "Number 0 = 5\n",
            "Number 1 = -7\n",
            "Number 2 = 0\n",
            "Number 3 = -4\n",
            "Number 4 = 2\n",
            "The sum of numbers after skipping negative number =  7\n"
          ]
        }
      ]
    },
    {
      "cell_type": "code",
      "source": [
        "# program for factorial using function\n",
        "\n",
        "def fact(x):\n",
        "\n",
        "  if x ==1:\n",
        "    return 1\n",
        "  else:\n",
        "    return (x * fact(x-1))\n",
        "\n",
        "xyz = int(input(\"Enter a number: \"))\n",
        "\n",
        "#callinh the factorial function\n",
        "result = fact(xyz)\n",
        "print(\"Factorial of \",xyz, \"=\", result)"
      ],
      "metadata": {
        "colab": {
          "base_uri": "https://localhost:8080/"
        },
        "id": "_lhCEr_fUMIM",
        "outputId": "8d4e6141-e740-41d2-eced-23781a7ecbec"
      },
      "execution_count": 5,
      "outputs": [
        {
          "output_type": "stream",
          "name": "stdout",
          "text": [
            "Enter a number: 4\n",
            "Factorial of  4 = 24\n"
          ]
        }
      ]
    }
  ]
}